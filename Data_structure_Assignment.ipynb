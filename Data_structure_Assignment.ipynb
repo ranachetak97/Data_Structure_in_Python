{
 "cells": [
  {
   "cell_type": "markdown",
   "id": "afb93944-d41e-43e6-825d-4e59e2ba8030",
   "metadata": {},
   "source": [
    "# Q1 Write a code to reverse a string"
   ]
  },
  {
   "cell_type": "code",
   "execution_count": 2,
   "id": "d2034fa0-cda3-4615-bf68-ef42e17ff1c1",
   "metadata": {},
   "outputs": [
    {
     "name": "stdin",
     "output_type": "stream",
     "text": [
      "Enter your input String:-  Narendra\n"
     ]
    },
    {
     "data": {
      "text/plain": [
       "'ardneraN'"
      ]
     },
     "execution_count": 2,
     "metadata": {},
     "output_type": "execute_result"
    }
   ],
   "source": [
    "# Take user input String.\n",
    "user_input=input(\"Enter your input String:- \")\n",
    "\n",
    "#Inbuilt Function\n",
    "reverse_string=user_input[-1::-1]\n",
    "reverse_string"
   ]
  },
  {
   "cell_type": "code",
   "execution_count": null,
   "id": "443d3263-4b42-4fd7-b39d-aa5eab5d5a10",
   "metadata": {},
   "outputs": [],
   "source": []
  }
 ],
 "metadata": {
  "kernelspec": {
   "display_name": "Python 3 (ipykernel)",
   "language": "python",
   "name": "python3"
  },
  "language_info": {
   "codemirror_mode": {
    "name": "ipython",
    "version": 3
   },
   "file_extension": ".py",
   "mimetype": "text/x-python",
   "name": "python",
   "nbconvert_exporter": "python",
   "pygments_lexer": "ipython3",
   "version": "3.10.8"
  }
 },
 "nbformat": 4,
 "nbformat_minor": 5
}
